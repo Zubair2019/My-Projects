{
 "cells": [
  {
   "cell_type": "code",
   "execution_count": 21,
   "metadata": {},
   "outputs": [
    {
     "name": "stdout",
     "output_type": "stream",
     "text": [
      "Counter({2: 4, 3: 4, 1: 3, 4: 2, 5: 1})\n",
      "Hello\n",
      "Counter({2: 4, 1: 3, 3: 3, 4: 2, 5: 1})\n"
     ]
    }
   ],
   "source": [
    "from collections import Counter\n",
    "myList = [1,1,2,3,4,5,3,2,3,4,2,1,2,3]\n",
    "counter = Counter(myList)\n",
    "print(counter)\n",
    "size = 3\n",
    "# print(counter[4])\n",
    "if counter[size]>0:\n",
    "    print('Hello')\n",
    "    upd = {size:-1}\n",
    "    counter.update(upd)\n",
    "print(counter)"
   ]
  },
  {
   "cell_type": "code",
   "execution_count": 4,
   "metadata": {},
   "outputs": [
    {
     "ename": "AttributeError",
     "evalue": "'Car' object has no attribute 'append'",
     "output_type": "error",
     "traceback": [
      "\u001b[0;31m---------------------------------------------------------------------------\u001b[0m",
      "\u001b[0;31mAttributeError\u001b[0m                            Traceback (most recent call last)",
      "\u001b[0;32m<ipython-input-4-3a70dec028e9>\u001b[0m in \u001b[0;36m<module>\u001b[0;34m\u001b[0m\n\u001b[1;32m      2\u001b[0m \u001b[0mCar\u001b[0m \u001b[0;34m=\u001b[0m \u001b[0mnamedtuple\u001b[0m\u001b[0;34m(\u001b[0m\u001b[0;34m'Car'\u001b[0m\u001b[0;34m,\u001b[0m\u001b[0;34m'ID MARKS NAME CLASS'\u001b[0m\u001b[0;34m)\u001b[0m\u001b[0;34m\u001b[0m\u001b[0;34m\u001b[0m\u001b[0m\n\u001b[1;32m      3\u001b[0m \u001b[0mxyz\u001b[0m \u001b[0;34m=\u001b[0m \u001b[0mCar\u001b[0m\u001b[0;34m(\u001b[0m\u001b[0mID\u001b[0m \u001b[0;34m=\u001b[0m \u001b[0;36m100000\u001b[0m\u001b[0;34m,\u001b[0m \u001b[0mMARKS\u001b[0m \u001b[0;34m=\u001b[0m \u001b[0;36m30\u001b[0m\u001b[0;34m,\u001b[0m \u001b[0mNAME\u001b[0m \u001b[0;34m=\u001b[0m \u001b[0;34m'Cyan'\u001b[0m\u001b[0;34m,\u001b[0m \u001b[0mCLASS\u001b[0m \u001b[0;34m=\u001b[0m \u001b[0;34m'Y'\u001b[0m\u001b[0;34m)\u001b[0m\u001b[0;34m\u001b[0m\u001b[0;34m\u001b[0m\u001b[0m\n\u001b[0;32m----> 4\u001b[0;31m \u001b[0mxyz\u001b[0m\u001b[0;34m.\u001b[0m\u001b[0mappend\u001b[0m\u001b[0;34m(\u001b[0m\u001b[0mID\u001b[0m \u001b[0;34m=\u001b[0m \u001b[0;36m1\u001b[0m\u001b[0;34m,\u001b[0m \u001b[0mMARKS\u001b[0m \u001b[0;34m=\u001b[0m \u001b[0;36m300\u001b[0m\u001b[0;34m,\u001b[0m \u001b[0mNAME\u001b[0m \u001b[0;34m=\u001b[0m \u001b[0;34m'Cyan'\u001b[0m\u001b[0;34m,\u001b[0m \u001b[0mCLASS\u001b[0m \u001b[0;34m=\u001b[0m \u001b[0;34m'Z'\u001b[0m\u001b[0;34m)\u001b[0m\u001b[0;34m\u001b[0m\u001b[0;34m\u001b[0m\u001b[0m\n\u001b[0m\u001b[1;32m      5\u001b[0m \u001b[0mprint\u001b[0m\u001b[0;34m(\u001b[0m\u001b[0mxyz\u001b[0m\u001b[0;34m)\u001b[0m\u001b[0;34m\u001b[0m\u001b[0;34m\u001b[0m\u001b[0m\n\u001b[1;32m      6\u001b[0m \u001b[0;31m# Car(Price=100000, Mileage=30, Colour='Cyan', Class='Y')\u001b[0m\u001b[0;34m\u001b[0m\u001b[0;34m\u001b[0m\u001b[0;34m\u001b[0m\u001b[0m\n",
      "\u001b[0;31mAttributeError\u001b[0m: 'Car' object has no attribute 'append'"
     ]
    }
   ],
   "source": [
    "from collections import namedtuple\n",
    "Car = namedtuple('Car','ID MARKS NAME CLASS')\n",
    "xyz = Car(ID = 100000, MARKS = 30, NAME = 'Cyan', CLASS = 'Y')\n",
    "xyz.append(ID = 1, MARKS = 300, NAME = 'Cyan', CLASS = 'Z')\n",
    "print(xyz)\n",
    "# Car(Price=100000, Mileage=30, Colour='Cyan', Class='Y')\n",
    "print(xyz.CLASS)"
   ]
  },
  {
   "cell_type": "code",
   "execution_count": 7,
   "metadata": {},
   "outputs": [
    {
     "name": "stdout",
     "output_type": "stream",
     "text": [
      "15.0\n"
     ]
    }
   ],
   "source": [
    "n = 2\n",
    "head,= ['ID','MARKS','NAME','CLASS'],\n",
    "index = head.index('MARKS')\n",
    "print(sum([int(input().split()[index]) for i in range(n)])/n)\n"
   ]
  },
  {
   "cell_type": "markdown",
   "metadata": {},
   "source": [
    "#### Ordered Dictionary"
   ]
  },
  {
   "cell_type": "code",
   "execution_count": 11,
   "metadata": {},
   "outputs": [
    {
     "name": "stdout",
     "output_type": "stream",
     "text": [
      "{'a': 2, 'b': 2, 'c': 3}\n"
     ]
    }
   ],
   "source": [
    "from collections import OrderedDict\n",
    "\n",
    "orddict = {}\n",
    "orddict['a']=1\n",
    "orddict['b']=2\n",
    "orddict['c']=3\n",
    "orddict['a']=2\n",
    "print(orddict)"
   ]
  },
  {
   "cell_type": "code",
   "execution_count": null,
   "metadata": {},
   "outputs": [],
   "source": [
    "from collections import OrderedDict\n",
    "d = OrderedDict()\n",
    "for _ in range(int(input())):\n",
    "    item, space, quantity = input().rpartition(' ')\n",
    "    d[item] = d.get(item, 0) + int(quantity)\n",
    "for item, quantity in d.items():\n",
    "    print(item, quantity)"
   ]
  },
  {
   "cell_type": "code",
   "execution_count": 4,
   "metadata": {},
   "outputs": [
    {
     "name": "stdout",
     "output_type": "stream",
     "text": [
      "OrderedDict([('abc', 2), ('def', 1), ('dsf', 1)])\n"
     ]
    }
   ],
   "source": [
    "from collections import OrderedDict\n",
    "d = OrderedDict()\n",
    "for _ in range(int(input())):\n",
    "    word = input()\n",
    "    d[word] = d.get(word, 0)+1\n",
    "print(len(d))\n",
    "print(*[quantity for _,quantity in d.items()])"
   ]
  },
  {
   "cell_type": "code",
   "execution_count": 1,
   "metadata": {},
   "outputs": [],
   "source": [
    "if __name__ == '__main__':\n",
    "    s = \"aabbbccde\"\n",
    "    lst = [ele for ele in s]"
   ]
  },
  {
   "cell_type": "code",
   "execution_count": 47,
   "metadata": {},
   "outputs": [
    {
     "name": "stdout",
     "output_type": "stream",
     "text": [
      "['a', 'b', 'c', 'd', 'e']\n",
      "[('a', 2), ('b', 3), ('c', 2), ('d', 1), ('e', 1)]\n"
     ]
    },
    {
     "ename": "TypeError",
     "evalue": "list indices must be integers or slices, not tuple",
     "output_type": "error",
     "traceback": [
      "\u001b[0;31m---------------------------------------------------------------------------\u001b[0m",
      "\u001b[0;31mTypeError\u001b[0m                                 Traceback (most recent call last)",
      "\u001b[0;32m<ipython-input-47-6a66d7003008>\u001b[0m in \u001b[0;36m<module>\u001b[0;34m\u001b[0m\n\u001b[1;32m      6\u001b[0m \u001b[0mprint\u001b[0m\u001b[0;34m(\u001b[0m\u001b[0msorted\u001b[0m\u001b[0;34m(\u001b[0m\u001b[0mlst1\u001b[0m\u001b[0;34m)\u001b[0m\u001b[0;34m)\u001b[0m\u001b[0;34m\u001b[0m\u001b[0;34m\u001b[0m\u001b[0m\n\u001b[1;32m      7\u001b[0m \u001b[0;32mfor\u001b[0m \u001b[0mele\u001b[0m \u001b[0;32min\u001b[0m \u001b[0mlst2\u001b[0m\u001b[0;34m:\u001b[0m\u001b[0;34m\u001b[0m\u001b[0;34m\u001b[0m\u001b[0m\n\u001b[0;32m----> 8\u001b[0;31m     \u001b[0;32mif\u001b[0m \u001b[0mele\u001b[0m \u001b[0;32min\u001b[0m \u001b[0;34m[\u001b[0m\u001b[0mel\u001b[0m \u001b[0;32mfor\u001b[0m \u001b[0mel\u001b[0m \u001b[0;32min\u001b[0m \u001b[0mlst1\u001b[0m\u001b[0;34m[\u001b[0m\u001b[0;34m:\u001b[0m\u001b[0;34m,\u001b[0m\u001b[0;34m:\u001b[0m\u001b[0;34m]\u001b[0m\u001b[0;34m[\u001b[0m\u001b[0;36m1\u001b[0m\u001b[0;34m]\u001b[0m\u001b[0;34m]\u001b[0m\u001b[0;34m:\u001b[0m\u001b[0;34m\u001b[0m\u001b[0;34m\u001b[0m\u001b[0m\n\u001b[0m\u001b[1;32m      9\u001b[0m         \u001b[0mprint\u001b[0m\u001b[0;34m(\u001b[0m\u001b[0mele\u001b[0m\u001b[0;34m)\u001b[0m\u001b[0;34m\u001b[0m\u001b[0;34m\u001b[0m\u001b[0m\n",
      "\u001b[0;31mTypeError\u001b[0m: list indices must be integers or slices, not tuple"
     ]
    }
   ],
   "source": [
    "from collections import Counter\n",
    "counter = Counter(lst)\n",
    "lst2 =[ele for ele in reversed(sorted(counter.values()))]\n",
    "print([ele for ele in counter.keys()])\n",
    "lst1 = [ele for ele in counter.items()]\n",
    "print(sorted(lst1))\n",
    "for ele in lst2:\n",
    "    if ele in [for j in rangelst1[j][1]]:\n",
    "        print(ele)\n"
   ]
  },
  {
   "cell_type": "code",
   "execution_count": 31,
   "metadata": {},
   "outputs": [
    {
     "name": "stdout",
     "output_type": "stream",
     "text": [
      "/Users/mac/GitHub/ts/test/199.txt\n",
      "0\n",
      "0\n",
      "0\n",
      "0\n",
      "1\n",
      "0\n",
      "1\n",
      "0\n",
      "1\n",
      "0\n",
      "1\n",
      "0\n",
      "1\n",
      "0\n",
      "---------\n",
      "/Users/mac/GitHub/ts/test/198.txt\n",
      "0\n",
      "0\n",
      "1\n",
      "0\n",
      "1\n",
      "0\n",
      "9\n",
      "0\n",
      "---------\n",
      "/Users/mac/GitHub/ts/test/195.txt\n",
      "0\n",
      "0\n",
      "---------\n",
      "/Users/mac/GitHub/ts/test/194.txt\n",
      "0\n",
      "0\n",
      "1\n",
      "0\n",
      "1\n",
      "0\n",
      "9\n",
      "0\n",
      "---------\n",
      "/Users/mac/GitHub/ts/test/196.txt\n",
      "0\n",
      "0\n",
      "---------\n",
      "/Users/mac/GitHub/ts/test/197.txt\n",
      "0\n",
      "0\n",
      "0\n",
      "0\n",
      "---------\n",
      "/Users/mac/GitHub/ts/test/193.txt\n",
      "0\n",
      "0\n",
      "0\n",
      "0\n",
      "15\n",
      "0\n",
      "8\n",
      "0\n",
      "20\n",
      "0\n",
      "12\n",
      "0\n",
      "15\n",
      "0\n",
      "6\n",
      "0\n",
      "---------\n",
      "/Users/mac/GitHub/ts/test/192.txt\n",
      "0\n",
      "0\n",
      "0\n",
      "0\n",
      "3\n",
      "0\n",
      "2\n",
      "0\n",
      "2\n",
      "0\n",
      "1\n",
      "0\n",
      "---------\n",
      "/Users/mac/GitHub/ts/test/191.txt\n",
      "0\n",
      "0\n",
      "3\n",
      "0\n",
      "1\n",
      "0\n",
      "1\n",
      "0\n",
      "1\n",
      "0\n",
      "1\n",
      "0\n",
      "1\n",
      "0\n",
      "0\n",
      "0\n",
      "0\n",
      "0\n",
      "---------\n"
     ]
    }
   ],
   "source": [
    "    import glob\n",
    "    mypath = '/Users/mac/GitHub/ts/test/'\n",
    "    # print(mypath)\n",
    "    lst = glob.glob(mypath+\"*.txt\")\n",
    "    # print(lst)\n",
    "    for item in lst:\n",
    "        print(item)\n",
    "        file = open(item,'r')\n",
    "        lines = file.readlines()\n",
    "        for line in lines:\n",
    "            Fst = line.strip().split()[0]\n",
    "            print(Fst)\n",
    "            print(line.find(Fst))\n",
    "        print(\"---------\")"
   ]
  },
  {
   "cell_type": "code",
   "execution_count": 45,
   "metadata": {},
   "outputs": [],
   "source": [
    "\n",
    "from fileinput import FileInput\n",
    "def replacetext(item):\n",
    "\n",
    "\t# Opening file using FileInput\n",
    "\twith FileInput(item, inplace=True) as f:\n",
    "\n",
    "\t\tfor line in f:\n",
    "\t\t\tFst = line.strip().split()[0]\n",
    "\t\t\tprint(line.replace(Fst, str(int(Fst)+1),1), end='')\n",
    "\n",
    "\t# Return \"Text replaced\" string\n",
    "\treturn \"Text replaced\"\n",
    "\n",
    "import glob\n",
    "mypath = '/Users/mac/Documents/ts/'\n",
    "# print(mypath)\n",
    "lst = glob.glob(mypath+\"*.txt\")\n",
    "# print(lst)\n",
    "for item in lst:\n",
    "\treplacetext(item)\n"
   ]
  },
  {
   "cell_type": "code",
   "execution_count": 47,
   "metadata": {},
   "outputs": [],
   "source": [
    "import glob, cv2\n",
    "mypath = '/Users/mac/Documents/ts/'\n",
    "# print(mypath)\n",
    "lst = glob.glob(mypath+\"*.jpg\")\n",
    "# print(lst)\n",
    "for item in lst:\n",
    "\timg = cv2.imread(item)\n",
    "\tgray = cv2.cvtColor(img, cv2.COLOR_BGR2GRAY)\n",
    "\tgray = cv2.bitwise_not(gray)\n",
    "\tname = int(str(item).split('/')[-1].split('.')[0])\n",
    "\tcv2.imwrite('/Users/mac/Documents/temp/'+str(name+398)+'.jpg',gray)"
   ]
  },
  {
   "cell_type": "code",
   "execution_count": 49,
   "metadata": {},
   "outputs": [],
   "source": [
    "import glob, cv2\n",
    "mypath = '/Users/mac/Documents/ts/'\n",
    "# print(mypath)\n",
    "lst = glob.glob(mypath+\"*.txt\")\n",
    "# print(lst)\n",
    "for item in lst:\n",
    "\tf = open(item,'r')\n",
    "\tfiledata = f.read()\n",
    "\tf.close()\n",
    "\tname = int(str(item).split('/')[-1].split('.')[0])\n",
    "\tf = open('/Users/mac/Documents/temp/'+str(name+398)+'.txt','w')\n",
    "\tf.write(filedata)\n",
    "\tf.close()"
   ]
  },
  {
   "cell_type": "code",
   "execution_count": 59,
   "metadata": {},
   "outputs": [],
   "source": [
    "with open ('/Users/mac/Documents/ts/train/images.txt', 'a') as f: \n",
    "    for i in range(549,598):\n",
    "        f.write ('/Users/mac/GitHub/ts/train/data/'+str(i)+'.jpg\\n')"
   ]
  }
 ],
 "metadata": {
  "interpreter": {
   "hash": "40d3a090f54c6569ab1632332b64b2c03c39dcf918b08424e98f38b5ae0af88f"
  },
  "kernelspec": {
   "display_name": "Python 3.8.8 64-bit ('base': conda)",
   "language": "python",
   "name": "python3"
  },
  "language_info": {
   "codemirror_mode": {
    "name": "ipython",
    "version": 3
   },
   "file_extension": ".py",
   "mimetype": "text/x-python",
   "name": "python",
   "nbconvert_exporter": "python",
   "pygments_lexer": "ipython3",
   "version": "3.8.8"
  },
  "orig_nbformat": 4
 },
 "nbformat": 4,
 "nbformat_minor": 2
}
