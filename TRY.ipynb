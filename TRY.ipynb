{
 "cells": [
  {
   "cell_type": "code",
   "execution_count": 21,
   "metadata": {},
   "outputs": [
    {
     "name": "stdout",
     "output_type": "stream",
     "text": [
      "Counter({2: 4, 3: 4, 1: 3, 4: 2, 5: 1})\n",
      "Hello\n",
      "Counter({2: 4, 1: 3, 3: 3, 4: 2, 5: 1})\n"
     ]
    }
   ],
   "source": [
    "from collections import Counter\n",
    "myList = [1,1,2,3,4,5,3,2,3,4,2,1,2,3]\n",
    "counter = Counter(myList)\n",
    "print(counter)\n",
    "size = 3\n",
    "# print(counter[4])\n",
    "if counter[size]>0:\n",
    "    print('Hello')\n",
    "    upd = {size:-1}\n",
    "    counter.update(upd)\n",
    "print(counter)"
   ]
  },
  {
   "cell_type": "code",
   "execution_count": 4,
   "metadata": {},
   "outputs": [
    {
     "ename": "AttributeError",
     "evalue": "'Car' object has no attribute 'append'",
     "output_type": "error",
     "traceback": [
      "\u001b[0;31m---------------------------------------------------------------------------\u001b[0m",
      "\u001b[0;31mAttributeError\u001b[0m                            Traceback (most recent call last)",
      "\u001b[0;32m<ipython-input-4-3a70dec028e9>\u001b[0m in \u001b[0;36m<module>\u001b[0;34m\u001b[0m\n\u001b[1;32m      2\u001b[0m \u001b[0mCar\u001b[0m \u001b[0;34m=\u001b[0m \u001b[0mnamedtuple\u001b[0m\u001b[0;34m(\u001b[0m\u001b[0;34m'Car'\u001b[0m\u001b[0;34m,\u001b[0m\u001b[0;34m'ID MARKS NAME CLASS'\u001b[0m\u001b[0;34m)\u001b[0m\u001b[0;34m\u001b[0m\u001b[0;34m\u001b[0m\u001b[0m\n\u001b[1;32m      3\u001b[0m \u001b[0mxyz\u001b[0m \u001b[0;34m=\u001b[0m \u001b[0mCar\u001b[0m\u001b[0;34m(\u001b[0m\u001b[0mID\u001b[0m \u001b[0;34m=\u001b[0m \u001b[0;36m100000\u001b[0m\u001b[0;34m,\u001b[0m \u001b[0mMARKS\u001b[0m \u001b[0;34m=\u001b[0m \u001b[0;36m30\u001b[0m\u001b[0;34m,\u001b[0m \u001b[0mNAME\u001b[0m \u001b[0;34m=\u001b[0m \u001b[0;34m'Cyan'\u001b[0m\u001b[0;34m,\u001b[0m \u001b[0mCLASS\u001b[0m \u001b[0;34m=\u001b[0m \u001b[0;34m'Y'\u001b[0m\u001b[0;34m)\u001b[0m\u001b[0;34m\u001b[0m\u001b[0;34m\u001b[0m\u001b[0m\n\u001b[0;32m----> 4\u001b[0;31m \u001b[0mxyz\u001b[0m\u001b[0;34m.\u001b[0m\u001b[0mappend\u001b[0m\u001b[0;34m(\u001b[0m\u001b[0mID\u001b[0m \u001b[0;34m=\u001b[0m \u001b[0;36m1\u001b[0m\u001b[0;34m,\u001b[0m \u001b[0mMARKS\u001b[0m \u001b[0;34m=\u001b[0m \u001b[0;36m300\u001b[0m\u001b[0;34m,\u001b[0m \u001b[0mNAME\u001b[0m \u001b[0;34m=\u001b[0m \u001b[0;34m'Cyan'\u001b[0m\u001b[0;34m,\u001b[0m \u001b[0mCLASS\u001b[0m \u001b[0;34m=\u001b[0m \u001b[0;34m'Z'\u001b[0m\u001b[0;34m)\u001b[0m\u001b[0;34m\u001b[0m\u001b[0;34m\u001b[0m\u001b[0m\n\u001b[0m\u001b[1;32m      5\u001b[0m \u001b[0mprint\u001b[0m\u001b[0;34m(\u001b[0m\u001b[0mxyz\u001b[0m\u001b[0;34m)\u001b[0m\u001b[0;34m\u001b[0m\u001b[0;34m\u001b[0m\u001b[0m\n\u001b[1;32m      6\u001b[0m \u001b[0;31m# Car(Price=100000, Mileage=30, Colour='Cyan', Class='Y')\u001b[0m\u001b[0;34m\u001b[0m\u001b[0;34m\u001b[0m\u001b[0;34m\u001b[0m\u001b[0m\n",
      "\u001b[0;31mAttributeError\u001b[0m: 'Car' object has no attribute 'append'"
     ]
    }
   ],
   "source": [
    "from collections import namedtuple\n",
    "Car = namedtuple('Car','ID MARKS NAME CLASS')\n",
    "xyz = Car(ID = 100000, MARKS = 30, NAME = 'Cyan', CLASS = 'Y')\n",
    "xyz.append(ID = 1, MARKS = 300, NAME = 'Cyan', CLASS = 'Z')\n",
    "print(xyz)\n",
    "# Car(Price=100000, Mileage=30, Colour='Cyan', Class='Y')\n",
    "print(xyz.CLASS)"
   ]
  },
  {
   "cell_type": "code",
   "execution_count": 7,
   "metadata": {},
   "outputs": [
    {
     "name": "stdout",
     "output_type": "stream",
     "text": [
      "15.0\n"
     ]
    }
   ],
   "source": [
    "n = 2\n",
    "head,= ['ID','MARKS','NAME','CLASS'],\n",
    "index = head.index('MARKS')\n",
    "print(sum([int(input().split()[index]) for i in range(n)])/n)\n"
   ]
  },
  {
   "cell_type": "code",
   "execution_count": 11,
   "metadata": {},
   "outputs": [
    {
     "name": "stdout",
     "output_type": "stream",
     "text": [
      "{'a': 2, 'b': 2, 'c': 3}\n"
     ]
    }
   ],
   "source": [
    "from collections import OrderedDict\n",
    "\n",
    "orddict = {}\n",
    "orddict['a']=1\n",
    "orddict['b']=2\n",
    "orddict['c']=3\n",
    "orddict['a']=2\n",
    "\n",
    "print(orddict)\n",
    "\n"
   ]
  }
 ],
 "metadata": {
  "interpreter": {
   "hash": "40d3a090f54c6569ab1632332b64b2c03c39dcf918b08424e98f38b5ae0af88f"
  },
  "kernelspec": {
   "display_name": "Python 3.8.8 64-bit ('base': conda)",
   "language": "python",
   "name": "python3"
  },
  "language_info": {
   "codemirror_mode": {
    "name": "ipython",
    "version": 3
   },
   "file_extension": ".py",
   "mimetype": "text/x-python",
   "name": "python",
   "nbconvert_exporter": "python",
   "pygments_lexer": "ipython3",
   "version": "3.8.8"
  },
  "orig_nbformat": 4
 },
 "nbformat": 4,
 "nbformat_minor": 2
}
