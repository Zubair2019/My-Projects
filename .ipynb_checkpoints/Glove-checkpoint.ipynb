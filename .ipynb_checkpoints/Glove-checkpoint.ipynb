{
 "cells": [
  {
   "cell_type": "code",
   "execution_count": 7,
   "metadata": {},
   "outputs": [],
   "source": [
    "import random\n",
    "import numpy as np"
   ]
  },
  {
   "cell_type": "code",
   "execution_count": 2,
   "metadata": {},
   "outputs": [],
   "source": [
    "embeddings_dict1 = {}\n",
    "with open(\"/Users/mac/Downloads/en-2012/en.txt\", 'r') as f:\n",
    "    for line in f:\n",
    "        line = line.split()\n",
    "        word = line[0]\n",
    "        count = int(line[1])\n",
    "        embeddings_dict1[word] = count"
   ]
  },
  {
   "cell_type": "code",
   "execution_count": 3,
   "metadata": {},
   "outputs": [
    {
     "name": "stdout",
     "output_type": "stream",
     "text": [
      "456631\n",
      "<class 'dict'>\n"
     ]
    }
   ],
   "source": [
    "list1 = sorted(embeddings_dict1.values(),reverse = True)\n",
    "print(len(list1))\n",
    "print(type(embeddings_dict1))"
   ]
  },
  {
   "cell_type": "code",
   "execution_count": 5,
   "metadata": {},
   "outputs": [
    {
     "name": "stdout",
     "output_type": "stream",
     "text": [
      "1000 -- 1000\n"
     ]
    }
   ],
   "source": [
    "easy_words = {}\n",
    "dif_words = {}\n",
    "first_100 = random.sample(list1[0:100000],1000)\n",
    "last_100 = random.sample(list1[100000:110000],1000)\n",
    "print(len(first_100), '--', len(last_100))"
   ]
  },
  {
   "cell_type": "code",
   "execution_count": 14,
   "metadata": {},
   "outputs": [
    {
     "name": "stdout",
     "output_type": "stream",
     "text": [
      "1000\n",
      "1000\n"
     ]
    }
   ],
   "source": [
    "i=0\n",
    "for key, value in embeddings_dict1.items():\n",
    "    if value in first_100:\n",
    "        easy_words[key] = value\n",
    "        i += 1\n",
    "    if i == 1000:\n",
    "        break\n",
    "i=0\n",
    "for key, value in embeddings_dict1.items():\n",
    "    if value in last_100:\n",
    "        dif_words[key] = value\n",
    "        i += 1\n",
    "    if i == 1000:\n",
    "        break\n",
    "# print(dif_words)\n",
    "easy_words1 = [key for key, value in easy_words.items()]\n",
    "dif_words2 = [key for key, value in dif_words.items()]\n",
    "print(len(easy_words1))\n",
    "print(len(dif_words2))"
   ]
  },
  {
   "cell_type": "code",
   "execution_count": 243,
   "metadata": {},
   "outputs": [
    {
     "name": "stdout",
     "output_type": "stream",
     "text": [
      "50\n"
     ]
    },
    {
     "data": {
      "text/plain": [
       "'\\n# Embeddings for available words\\ndata_embeddings = {key: value for key, value in embeddings_dict.items() if key in categories.keys()}\\n\\n# Processing the query\\ndef process(query):\\n  query_embed = embeddings_dict[query]\\n  scores = {}\\n  for word, embed in data_embeddings.items():\\n    category = categories[word]\\n    dist = query_embed.dot(embed)\\n    dist /= len(data[category])\\n    scores[category] = scores.get(category, 0) + dist\\n  return scores'"
      ]
     },
     "execution_count": 243,
     "metadata": {},
     "output_type": "execute_result"
    }
   ],
   "source": [
    "\n",
    "import numpy as np\n",
    "'''data = {\n",
    "  'easy words': easy_words1,\n",
    "  'diff words': dif_words2,\n",
    "}\n",
    "# Words -> category\n",
    "categories = {word: key for key, words in data.items() for word in words}'''\n",
    "\n",
    "embeddings_dict = {}\n",
    "with open(\"/Users/mac/Downloads/glove/glove.6B.50d.txt\", 'r') as f:\n",
    "    for line in f:\n",
    "        values = line.split()\n",
    "        word = values[0]\n",
    "        vector = np.asarray(values[1:], \"float32\")\n",
    "        embeddings_dict[word] = vector\n",
    "    print(len(vector))\n",
    "      \n",
    "'''\n",
    "# Embeddings for available words\n",
    "data_embeddings = {key: value for key, value in embeddings_dict.items() if key in categories.keys()}\n",
    "\n",
    "# Processing the query\n",
    "def process(query):\n",
    "  query_embed = embeddings_dict[query]\n",
    "  scores = {}\n",
    "  for word, embed in data_embeddings.items():\n",
    "    category = categories[word]\n",
    "    dist = query_embed.dot(embed)\n",
    "    dist /= len(data[category])\n",
    "    scores[category] = scores.get(category, 0) + dist\n",
    "  return scores'''"
   ]
  },
  {
   "cell_type": "code",
   "execution_count": null,
   "metadata": {},
   "outputs": [],
   "source": []
  },
  {
   "cell_type": "code",
   "execution_count": 2,
   "metadata": {},
   "outputs": [
    {
     "name": "stdout",
     "output_type": "stream",
     "text": [
      "shirt [-1.4862     0.13649   -0.69272   -0.38657    0.63721   -0.32977\n",
      " -0.63438   -1.1371    -0.43413   -0.76983    0.1382    -0.39032\n",
      " -0.46817   -0.34811    0.27055    0.13882   -1.2922    -0.30204\n",
      "  0.024496  -1.1792    -0.89009    0.58637    0.1869    -0.16435\n",
      " -1.4224    -1.2211    -0.49138    1.8557     0.5213    -1.1349\n",
      "  1.712      0.64138   -0.59021    1.0428    -0.27747    0.63337\n",
      "  0.3644    -0.043979  -0.70793   -1.1328     0.95184    0.18644\n",
      " -0.34336    0.33145    0.77199   -0.77025   -0.0062418 -1.1953\n",
      "  0.5156    -0.60194  ]\n"
     ]
    }
   ],
   "source": [
    "for key, value in embeddings_dict.items():\n",
    "    if key == 'shirt':\n",
    "        print(key,value)\n",
    "        break"
   ]
  },
  {
   "cell_type": "code",
   "execution_count": 358,
   "metadata": {},
   "outputs": [],
   "source": [
    "mysneaker = [ 1.6850,  0.0334,  1.8177,  4.2614,  4.0067, 10.8157,  2.5987, 13.9164,\n",
    "         7.8560,  9.6069, -0.9453, -1.4381, -1.1521, -1.1111, -1.4806, -0.9514,\n",
    "        -1.8048, -1.4001, -1.5534, -1.6935, -2.0641, -1.7756, -1.4269, -1.1725,\n",
    "        -1.2379, -1.2717, -1.0051, -1.3066, -1.3628, -1.3683, -1.1320, -1.5885,\n",
    "        -1.1023, -1.3606, -0.6272, -1.5798, -2.1828, -1.3543, -1.3299, -0.8430,\n",
    "        -1.4860, -1.5334, -1.3826, -1.5519, -1.4351, -1.0591, -1.3296, -0.8001,\n",
    "        -1.6737, -1.3775]\n",
    "myshirt = [21.3609,  9.8828, 19.0948, 16.3102, 14.7616,  8.3903, 20.6165,  0.9143,\n",
    "        16.7721,  6.8732, -2.8457, -3.4084, -3.5408, -2.7312, -3.6687, -2.7310,\n",
    "        -3.8926, -3.2772, -3.5256, -3.9278, -4.3848, -3.5327, -3.5927, -3.7884,\n",
    "        -3.5794, -2.5487, -2.8697, -4.4603, -3.2434, -3.3343, -2.0988, -3.0785,\n",
    "        -3.3097, -2.8733, -2.1910, -3.1038, -3.9080, -2.9600, -3.7145, -2.5034,\n",
    "        -3.8696, -2.9310, -3.4418, -4.3503, -4.7181, -3.1099, -3.7087, -2.4613,\n",
    "        -2.8435, -3.7669]\n",
    "mycoat = [14.5447, 13.3873, 16.1622, 16.4766, 19.1264,  9.8787, 17.3084,  4.4397,\n",
    "        17.2047,  7.5087, -3.1471, -3.3162, -3.3482, -2.7439, -4.1153, -2.7450,\n",
    "        -3.9705, -3.4174, -3.3911, -3.7017, -3.9040, -3.4475, -3.6130, -3.5575,\n",
    "        -3.4501, -2.7471, -2.8724, -4.5787, -3.3349, -3.2408, -2.4469, -3.2081,\n",
    "        -3.2108, -2.6843, -2.1267, -3.3244, -3.9469, -2.8011, -3.5365, -2.4241,\n",
    "        -4.1055, -2.9978, -3.5332, -4.3420, -4.5417, -3.0023, -3.9351, -2.7433,\n",
    "        -3.0832, -3.6911]\n",
    "myboot = [ 2.2116, -3.1041,  3.1737,  4.3450,  4.3037, 15.3547,  3.4812, 15.9296,\n",
    "        11.5362, 17.5796, -1.2561, -2.3689, -1.4489, -1.5664, -1.8327, -1.3153,\n",
    "        -2.4469, -1.9401, -1.9762, -2.4275, -2.9579, -2.3499, -1.8568, -1.7041,\n",
    "        -1.9207, -1.6579, -1.4837, -2.1005, -1.7323, -1.6832, -1.1187, -2.2288,\n",
    "        -1.4996, -1.6301, -0.7010, -1.9533, -3.2474, -2.3780, -1.8299, -1.0792,\n",
    "        -1.7036, -2.0266, -1.8191, -2.0812, -1.6671, -1.6344, -1.8994, -1.1810,\n",
    "        -2.3073, -2.0173]\n"
   ]
  },
  {
   "cell_type": "code",
   "execution_count": 442,
   "metadata": {},
   "outputs": [
    {
     "name": "stdout",
     "output_type": "stream",
     "text": [
      "50\n"
     ]
    }
   ],
   "source": [
    "import numpy as np\n",
    "embeddings_dict = {}\n",
    "with open(\"/Users/mac/Downloads/glove/glove.6B.50d.txt\", 'r') as f:\n",
    "    for line in f:\n",
    "        values = line.split()\n",
    "        word = values[0]\n",
    "        vector = np.asarray(values[1:], \"float32\")\n",
    "        embeddings_dict[word] = vector\n",
    "    print(len(vector))\n",
    "# embeddings_dict['myshirt'] = myshirt\n",
    "embeddings_dict['mycoat'] = mycoat\n",
    "embeddings_dict['mysneaker'] = mysneaker\n",
    "embeddings_dict['myboot'] = myboot"
   ]
  },
  {
   "cell_type": "code",
   "execution_count": 443,
   "metadata": {},
   "outputs": [],
   "source": [
    "from sklearn.manifold import TSNE\n",
    "from operator import *\n",
    "\n",
    "words = [\n",
    "    \"shirt\",\n",
    "    \"trouser\",\n",
    "    \"pullover\",\n",
    "    \"dress\",\n",
    "    \"coat\",\n",
    "    \"sandal\",\n",
    "    \"shirt\",\n",
    "    \"sneaker\",\n",
    "    \"bag\",\n",
    "    \"boot\",\n",
    "#     'myshirt',\n",
    "    \"mycoat\",\n",
    "    \"mysneaker\",\n",
    "    \"myboot\"\n",
    "]\n",
    "# words = list(embeddings_dict.keys())\n",
    "vectors = [embeddings_dict[word] for word in words]\n",
    "# for item in range(10):\n",
    "#     vectors1.append(list(map(mul, vectors[item], myshirt)))\n",
    "# vectors1 = vectors\n",
    "# vectors1.append(myshirt)\n",
    "# vectors1.append(mycoat)\n",
    "# print(vectors1)\n"
   ]
  },
  {
   "cell_type": "code",
   "execution_count": 420,
   "metadata": {},
   "outputs": [],
   "source": [
    "lst = list(map(truediv, embeddings_dict['mysneaker'],embeddings_dict['myboot']))"
   ]
  },
  {
   "cell_type": "code",
   "execution_count": 421,
   "metadata": {},
   "outputs": [
    {
     "name": "stdout",
     "output_type": "stream",
     "text": [
      "[0.7618918430095859, -0.010759962630069907, 0.5727384440873429, 0.9807594936708861, 0.9309896135883078, 0.7043901867180733, 0.7464954613351719, 0.8736189232623542, 0.6809868067474559, 0.5464800109217502, 0.7525674707427753, 0.6070750137194478, 0.7951549451307888, 0.7093335035750766, 0.8078790855022644, 0.723333079905725, 0.7375863337283911, 0.7216638317612494, 0.7860540431130452, 0.6976313079299691, 0.6978261604516718, 0.7556066215583642, 0.7684726411029729, 0.6880464761457662, 0.6445046076951111, 0.7670547077628326, 0.6774280514928894, 0.62204237086408, 0.7866997633204411, 0.8129158745247148, 1.0118887994994188, 0.7127153625269202, 0.7350626833822352, 0.8346727194650635, 0.8947218259629102, 0.8087851328520965, 0.6721685040339964, 0.5695121951219512, 0.7267610251926335, 0.7811341734618236, 0.8722704860295843, 0.75663673147143, 0.7600461766807762, 0.7456755717855084, 0.8608361825925259, 0.6480053842388643, 0.7000105296409392, 0.6774767146486029, 0.7253933168638668, 0.682843404550637]\n"
     ]
    }
   ],
   "source": [
    "print(lst)"
   ]
  },
  {
   "cell_type": "code",
   "execution_count": 445,
   "metadata": {},
   "outputs": [],
   "source": [
    "vectors1 = []\n",
    "for item in range(0,13):\n",
    "    if item <10:\n",
    "        vectors1.append(list(map(mul, vectors[item], mycoat)))\n",
    "    else:\n",
    "        vectors1.append(vectors[item])\n"
   ]
  },
  {
   "cell_type": "code",
   "execution_count": 433,
   "metadata": {
    "scrolled": true
   },
   "outputs": [],
   "source": [
    "# for i in range(13):\n",
    "# print(vectors[0:12])\n",
    "# for i in range(13):\n",
    "#     vectors1.append(vectors[i][0])\n",
    "# print(vectors1)"
   ]
  },
  {
   "cell_type": "code",
   "execution_count": 307,
   "metadata": {},
   "outputs": [],
   "source": [
    "# print(vectors[11])\n",
    "tsne = TSNE(n_components=3, random_state=0)"
   ]
  },
  {
   "cell_type": "code",
   "execution_count": 316,
   "metadata": {},
   "outputs": [],
   "source": [
    "Y = tsne.fit_transform(vectors[:13])"
   ]
  },
  {
   "cell_type": "code",
   "execution_count": 428,
   "metadata": {},
   "outputs": [
    {
     "name": "stdout",
     "output_type": "stream",
     "text": [
      "(12, 50)\n"
     ]
    }
   ],
   "source": []
  },
  {
   "cell_type": "code",
   "execution_count": 446,
   "metadata": {},
   "outputs": [
    {
     "name": "stdout",
     "output_type": "stream",
     "text": [
      "(13, 50)\n"
     ]
    }
   ],
   "source": [
    "X = np.asarray(vectors1[:13], \"float32\")\n",
    "print(X.shape)"
   ]
  },
  {
   "cell_type": "code",
   "execution_count": 449,
   "metadata": {},
   "outputs": [
    {
     "data": {
      "image/png": "[encoded data removed]",
      "text/plain": [
       "<Figure size 864x432 with 1 Axes>"
      ]
     },
     "metadata": {
      "needs_background": "light"
     },
     "output_type": "display_data"
    }
   ],
   "source": [
    "dim = 30\n",
    "dim1 = 32\n",
    "from matplotlib import pyplot as plt\n",
    "fig = plt.figure(figsize=(12, 6))\n",
    "plt.scatter(X[:, dim], X[:, dim1])\n",
    "\n",
    "for label, x, y in zip(words, X[:, dim], X[:, dim1]):\n",
    "    plt.annotate(label, xy=(x, y), xytext=(-20, 4), textcoords='offset points')\n",
    "# plt.imsave('/Users/mac/Documents/123.png')\n",
    "plt.show()"
   ]
  },
  {
   "cell_type": "code",
   "execution_count": 5,
   "metadata": {},
   "outputs": [
    {
     "ename": "ValueError",
     "evalue": "The truth value of an array with more than one element is ambiguous. Use a.any() or a.all()",
     "output_type": "error",
     "traceback": [
      "\u001b[0;31m---------------------------------------------------------------------------\u001b[0m",
      "\u001b[0;31mValueError\u001b[0m                                Traceback (most recent call last)",
      "\u001b[0;32m<ipython-input-5-24293281b557>\u001b[0m in \u001b[0;36m<module>\u001b[0;34m\u001b[0m\n\u001b[1;32m      1\u001b[0m \u001b[0mvow\u001b[0m \u001b[0;34m=\u001b[0m \u001b[0;34m[\u001b[0m\u001b[0;34m]\u001b[0m\u001b[0;34m\u001b[0m\u001b[0;34m\u001b[0m\u001b[0m\n\u001b[1;32m      2\u001b[0m \u001b[0;32mfor\u001b[0m \u001b[0mkey\u001b[0m\u001b[0;34m,\u001b[0m \u001b[0mvalue\u001b[0m \u001b[0;32min\u001b[0m \u001b[0membeddings_dict\u001b[0m\u001b[0;34m.\u001b[0m\u001b[0mitems\u001b[0m\u001b[0;34m(\u001b[0m\u001b[0;34m)\u001b[0m\u001b[0;34m:\u001b[0m\u001b[0;34m\u001b[0m\u001b[0;34m\u001b[0m\u001b[0m\n\u001b[0;32m----> 3\u001b[0;31m     \u001b[0;32mif\u001b[0m \u001b[0mvalue\u001b[0m \u001b[0;34m==\u001b[0m \u001b[0;36m50\u001b[0m\u001b[0;34m:\u001b[0m\u001b[0;34m\u001b[0m\u001b[0;34m\u001b[0m\u001b[0m\n\u001b[0m\u001b[1;32m      4\u001b[0m         \u001b[0mvow\u001b[0m\u001b[0;34m.\u001b[0m\u001b[0mappend\u001b[0m\u001b[0;34m(\u001b[0m\u001b[0mkey\u001b[0m\u001b[0;34m)\u001b[0m\u001b[0;34m\u001b[0m\u001b[0;34m\u001b[0m\u001b[0m\n\u001b[1;32m      5\u001b[0m \u001b[0mprint\u001b[0m\u001b[0;34m(\u001b[0m\u001b[0mlen\u001b[0m\u001b[0;34m(\u001b[0m\u001b[0mvow\u001b[0m\u001b[0;34m)\u001b[0m\u001b[0;34m)\u001b[0m\u001b[0;34m\u001b[0m\u001b[0;34m\u001b[0m\u001b[0m\n",
      "\u001b[0;31mValueError\u001b[0m: The truth value of an array with more than one element is ambiguous. Use a.any() or a.all()"
     ]
    }
   ],
   "source": [
    "vow = []\n",
    "for key, value in embeddings_dict1.items():\n",
    "    if value == 50:\n",
    "        vow.append(key)\n",
    "print(len(vow))"
   ]
  },
  {
   "cell_type": "code",
   "execution_count": null,
   "metadata": {},
   "outputs": [],
   "source": [
    "for i in range (0,447):\n",
    "    try:\n",
    "        scores = process(vow[i])\n",
    "        # for key, value in scores.items():\n",
    "        if float(scores['easy words']) > float(scores['diff words']):\n",
    "            pred = 'Easy'\n",
    "        else:\n",
    "            pred = 'Difficult'\n",
    "        print(vow[i], pred, scores)\n",
    "    except:\n",
    "        print(\"Word %s not found\" % vow[i])\n",
    "        continue"
   ]
  }
 ],
 "metadata": {
  "interpreter": {
   "hash": "40d3a090f54c6569ab1632332b64b2c03c39dcf918b08424e98f38b5ae0af88f"
  },
  "kernelspec": {
   "display_name": "Python 3",
   "language": "python",
   "name": "python3"
  },
  "language_info": {
   "codemirror_mode": {
    "name": "ipython",
    "version": 3
   },
   "file_extension": ".py",
   "mimetype": "text/x-python",
   "name": "python",
   "nbconvert_exporter": "python",
   "pygments_lexer": "ipython3",
   "version": "3.8.8"
  }
 },
 "nbformat": 4,
 "nbformat_minor": 2
}
