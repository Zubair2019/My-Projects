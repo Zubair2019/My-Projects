{
 "cells": [
  {
   "cell_type": "markdown",
   "metadata": {},
   "source": [
    "# QUICKSTART\n",
    "#### This section runs through the API for common tasks in machine learning. Refer to the links in each section to dive deeper."
   ]
  },
  {
   "cell_type": "markdown",
   "metadata": {},
   "source": [
    "## Working with data\n",
    "#### PyTorch has two primitives to work with data: torch.utils.data.DataLoader and torch.utils.data.Dataset. Dataset stores the samples and their corresponding labels, and DataLoader wraps an iterable around the Dataset."
   ]
  },
  {
   "cell_type": "code",
   "execution_count": 1,
   "metadata": {},
   "outputs": [],
   "source": [
    "import torch\n",
    "from torch import nn\n",
    "from torch.utils.data import DataLoader\n",
    "from torchvision import datasets\n",
    "from torchvision.transforms import ToTensor, Lambda, Compose\n",
    "import matplotlib.pyplot as plt"
   ]
  },
  {
   "cell_type": "markdown",
   "metadata": {},
   "source": [
    "## Importing Datasets\n",
    "#### The torchvision.datasets module contains Dataset objects for many real-world vision data like CIFAR, COCO (full list here). In this tutorial, we use the FashionMNIST dataset. Every TorchVision Dataset includes two arguments: transform and target_transform to modify the samples and labels respectively.\n",
    "\n"
   ]
  },
  {
   "cell_type": "code",
   "execution_count": 2,
   "metadata": {},
   "outputs": [],
   "source": [
    "# Download training dataset\n",
    "training_data = datasets.FashionMNIST(\n",
    "    root='data',\n",
    "    train = True,\n",
    "    download=True,\n",
    "    transform = ToTensor()\n",
    ")\n",
    "#  Download test dataset\n",
    "test_data = datasets.FashionMNIST(\n",
    "    root = 'data',\n",
    "    train = False,\n",
    "    download = True,\n",
    "    transform = ToTensor()\n",
    ")"
   ]
  },
  {
   "cell_type": "markdown",
   "metadata": {},
   "source": [
    "#### We pass the Dataset as an argument to DataLoader. This wraps an iterable over our dataset, and supports automatic batching, sampling, shuffling and multiprocess data loading. Here we define a batch size of 64, i.e. each element in the dataloader iterable will return a batch of 64 features and labels."
   ]
  },
  {
   "cell_type": "code",
   "execution_count": 4,
   "metadata": {},
   "outputs": [
    {
     "name": "stdout",
     "output_type": "stream",
     "text": [
      "torch.Size([64, 1, 28, 28]) torch.Size([64])\n",
      "938 157\n"
     ]
    }
   ],
   "source": [
    "batch_size = 64\n",
    "train_dataloader = DataLoader(training_data, batch_size=batch_size)\n",
    "test_dataloader = DataLoader(test_data, batch_size=batch_size)\n",
    "for X,y in test_dataloader:\n",
    "    print(X.shape, y.shape)\n",
    "    break\n",
    "print(len(train_dataloader),len(test_dataloader))"
   ]
  },
  {
   "cell_type": "markdown",
   "metadata": {},
   "source": [
    "## Creating Models\n",
    "#### To define a neural network in PyTorch, we create a class that inherits from nn.Module. We define the layers of the network in the __init__ function and specify how data will pass through the network in the forward function. To accelerate operations in the neural network, we move it to the GPU if available."
   ]
  },
  {
   "cell_type": "code",
   "execution_count": 57,
   "metadata": {},
   "outputs": [
    {
     "name": "stdout",
     "output_type": "stream",
     "text": [
      "Using {device} device\n",
      "NeuralNetwork(\n",
      "  (flatten): Flatten(start_dim=1, end_dim=-1)\n",
      "  (linear_relu_stack): Sequential(\n",
      "    (0): Linear(in_features=784, out_features=512, bias=True)\n",
      "    (1): ReLU()\n",
      "    (2): Linear(in_features=512, out_features=512, bias=True)\n",
      "    (3): ReLU()\n",
      "    (4): Linear(in_features=512, out_features=50, bias=True)\n",
      "  )\n",
      ")\n"
     ]
    }
   ],
   "source": [
    "# Get cpu or gpu device for training.\n",
    "device = 'cuda' if torch.cuda.is_available() else 'cpu'\n",
    "print('Using {device} device')\n",
    "\n",
    "class NeuralNetwork(nn.Module):\n",
    "    def __init__(self):\n",
    "        super(NeuralNetwork,self).__init__()\n",
    "        self.flatten = nn.Flatten()\n",
    "        self.linear_relu_stack = nn.Sequential(\n",
    "            nn.Linear(28*28, 512),\n",
    "            nn.ReLU(),\n",
    "            nn.Linear(512,512),\n",
    "            nn.ReLU(),\n",
    "            nn.Linear(512 ,50)\n",
    "        )\n",
    "    def forward(self , x):\n",
    "        x = self.flatten(x)\n",
    "        logits = self.linear_relu_stack(x)\n",
    "        return logits\n",
    "model = NeuralNetwork().to(device)\n",
    "print(model)\n"
   ]
  },
  {
   "cell_type": "markdown",
   "metadata": {},
   "source": [
    "## Optimizing the Model Parameters\n",
    "#### To train a model, we need a loss function and an optimizer.\n",
    "\n"
   ]
  },
  {
   "cell_type": "code",
   "execution_count": 58,
   "metadata": {},
   "outputs": [],
   "source": [
    "loss_fn = nn.CrossEntropyLoss()\n",
    "optimizer = torch.optim.SGD(model.parameters(), lr= 1e-3)"
   ]
  },
  {
   "cell_type": "markdown",
   "metadata": {},
   "source": [
    "## Training Function\n",
    "#### In a single training loop, the model makes predictions on the training dataset (fed to it in batches), and backpropagates the prediction error to adjust the model’s parameters."
   ]
  },
  {
   "cell_type": "code",
   "execution_count": 59,
   "metadata": {},
   "outputs": [],
   "source": [
    "def train(data_loader, model, loss_fn, optimizer):\n",
    "    size = len(data_loader)\n",
    "    model.train()\n",
    "    for batch, (X, y) in enumerate(data_loader):\n",
    "        X, y = X.to(device), y.to(device)\n",
    "\n",
    "        pred = model(X) \n",
    "        loss = loss_fn(pred,y) #calculate loss between predicted and actual labels\n",
    "\n",
    "        optimizer.zero_grad() # initialize gradients to zeros\n",
    "        loss.backward() # backpropagate loss\n",
    "        optimizer.step() # Update the parameters\n",
    "\n",
    "        if batch % 1000 == 0:\n",
    "            loss, current = loss.item(), batch * len(X)\n",
    "            print(f\"loss: {loss:>7f}  [{current:>5d}/{size:>5d}]\")"
   ]
  },
  {
   "cell_type": "markdown",
   "metadata": {},
   "source": [
    "## Test Function\n",
    "#### We also check the model’s performance against the test dataset to ensure it is learning."
   ]
  },
  {
   "cell_type": "code",
   "execution_count": 60,
   "metadata": {},
   "outputs": [],
   "source": [
    "def test(dataloader, model, loss_fn):\n",
    "    size = len(dataloader.dataset)\n",
    "    num_batches = len(dataloader)\n",
    "    # print(f\"Size {size} and batches {num_batches} =\")\n",
    "    model.eval()\n",
    "    test_loss, correct = 0, 0\n",
    "    with torch.no_grad():\n",
    "        for X, y in dataloader:\n",
    "            X, y = X.to(device), y.to(device)\n",
    "            pred = model(X)\n",
    "            test_loss += loss_fn(pred, y).item()\n",
    "            correct += (pred.argmax(1) == y).type(torch.float).sum().item()\n",
    "            # print(pred.argmax(0),'--', y)\n",
    "    # print(f\"test_loss {test_loss} and correct {correct}\")\n",
    "    test_loss /= num_batches\n",
    "    correct /= size\n",
    "    print(f\"Test Error: \\n Accuracy: {(100*correct):>0.1f}%, Avg loss: {test_loss:>8f} \\n\")"
   ]
  },
  {
   "cell_type": "markdown",
   "metadata": {},
   "source": [
    "#### The training process is conducted over several iterations (epochs). During each epoch, the model learns parameters to make better predictions. We print the model’s accuracy and loss at each epoch; we’d like to see the accuracy increase and the loss decrease with every epoch."
   ]
  },
  {
   "cell_type": "code",
   "execution_count": 61,
   "metadata": {},
   "outputs": [
    {
     "name": "stdout",
     "output_type": "stream",
     "text": [
      "Epoch 1\n",
      "-------------------------------\n",
      "loss: 3.914723  [    0/  938]\n",
      "Test Error: \n",
      " Accuracy: 16.7%, Avg loss: 2.467575 \n",
      "\n",
      "Epoch 2\n",
      "-------------------------------\n",
      "loss: 2.527528  [    0/  938]\n",
      "Test Error: \n",
      " Accuracy: 55.4%, Avg loss: 1.824504 \n",
      "\n",
      "Epoch 3\n",
      "-------------------------------\n",
      "loss: 1.907827  [    0/  938]\n",
      "Test Error: \n",
      " Accuracy: 60.4%, Avg loss: 1.420708 \n",
      "\n",
      "Epoch 4\n",
      "-------------------------------\n",
      "loss: 1.520391  [    0/  938]\n",
      "Test Error: \n",
      " Accuracy: 63.4%, Avg loss: 1.193117 \n",
      "\n",
      "Epoch 5\n",
      "-------------------------------\n",
      "loss: 1.289641  [    0/  938]\n",
      "Test Error: \n",
      " Accuracy: 65.0%, Avg loss: 1.052354 \n",
      "\n",
      "Epoch 6\n",
      "-------------------------------\n",
      "loss: 1.137487  [    0/  938]\n",
      "Test Error: \n",
      " Accuracy: 66.4%, Avg loss: 0.958025 \n",
      "\n",
      "Epoch 7\n",
      "-------------------------------\n",
      "loss: 1.026699  [    0/  938]\n",
      "Test Error: \n",
      " Accuracy: 67.8%, Avg loss: 0.891772 \n",
      "\n",
      "Epoch 8\n",
      "-------------------------------\n",
      "loss: 0.942531  [    0/  938]\n",
      "Test Error: \n",
      " Accuracy: 68.9%, Avg loss: 0.843025 \n",
      "\n",
      "Epoch 9\n",
      "-------------------------------\n",
      "loss: 0.876278  [    0/  938]\n",
      "Test Error: \n",
      " Accuracy: 70.5%, Avg loss: 0.805609 \n",
      "\n",
      "Epoch 10\n",
      "-------------------------------\n",
      "loss: 0.822329  [    0/  938]\n",
      "Test Error: \n",
      " Accuracy: 71.8%, Avg loss: 0.775605 \n",
      "\n",
      "Epoch 11\n",
      "-------------------------------\n",
      "loss: 0.777541  [    0/  938]\n",
      "Test Error: \n",
      " Accuracy: 72.9%, Avg loss: 0.750490 \n",
      "\n",
      "Epoch 12\n",
      "-------------------------------\n",
      "loss: 0.739577  [    0/  938]\n",
      "Test Error: \n",
      " Accuracy: 73.9%, Avg loss: 0.728773 \n",
      "\n",
      "Epoch 13\n",
      "-------------------------------\n",
      "loss: 0.706756  [    0/  938]\n",
      "Test Error: \n",
      " Accuracy: 74.6%, Avg loss: 0.709598 \n",
      "\n",
      "Epoch 14\n",
      "-------------------------------\n",
      "loss: 0.678243  [    0/  938]\n",
      "Test Error: \n",
      " Accuracy: 75.3%, Avg loss: 0.692402 \n",
      "\n",
      "Epoch 15\n",
      "-------------------------------\n",
      "loss: 0.653272  [    0/  938]\n",
      "Test Error: \n",
      " Accuracy: 76.1%, Avg loss: 0.676841 \n",
      "\n",
      "Epoch 16\n",
      "-------------------------------\n",
      "loss: 0.631323  [    0/  938]\n",
      "Test Error: \n",
      " Accuracy: 76.7%, Avg loss: 0.662701 \n",
      "\n",
      "Epoch 17\n",
      "-------------------------------\n",
      "loss: 0.611833  [    0/  938]\n",
      "Test Error: \n",
      " Accuracy: 77.1%, Avg loss: 0.649807 \n",
      "\n",
      "Epoch 18\n",
      "-------------------------------\n",
      "loss: 0.594438  [    0/  938]\n",
      "Test Error: \n",
      " Accuracy: 77.7%, Avg loss: 0.638006 \n",
      "\n",
      "Epoch 19\n",
      "-------------------------------\n",
      "loss: 0.578750  [    0/  938]\n",
      "Test Error: \n",
      " Accuracy: 78.1%, Avg loss: 0.627189 \n",
      "\n",
      "Epoch 20\n",
      "-------------------------------\n",
      "loss: 0.564544  [    0/  938]\n",
      "Test Error: \n",
      " Accuracy: 78.4%, Avg loss: 0.617258 \n",
      "\n",
      "Done!\n"
     ]
    }
   ],
   "source": [
    "epochs = 20\n",
    "for t in range(epochs):\n",
    "    print(f\"Epoch {t+1}\\n-------------------------------\")\n",
    "    train(train_dataloader, model, loss_fn, optimizer)\n",
    "    test(test_dataloader, model, loss_fn)\n",
    "print(\"Done!\")"
   ]
  },
  {
   "cell_type": "markdown",
   "metadata": {},
   "source": [
    "## Saving Models\n",
    "#### A common way to save a model is to serialize the internal state dictionary (containing the model parameters)."
   ]
  },
  {
   "cell_type": "code",
   "execution_count": 12,
   "metadata": {},
   "outputs": [
    {
     "name": "stdout",
     "output_type": "stream",
     "text": [
      "Saved PyTorch Model State to model.pth\n"
     ]
    }
   ],
   "source": [
    "torch.save(model.state_dict(),'model.pth')\n",
    "print(\"Saved PyTorch Model State to model.pth\")"
   ]
  },
  {
   "cell_type": "markdown",
   "metadata": {},
   "source": [
    "## Loading Models\n",
    "#### The process for loading a model includes re-creating the model structure and loading the state dictionary into it."
   ]
  },
  {
   "cell_type": "code",
   "execution_count": null,
   "metadata": {},
   "outputs": [],
   "source": [
    "model = NeuralNetwork()\n",
    "model.load_state_dict(torch.load('model.pth'))"
   ]
  },
  {
   "cell_type": "markdown",
   "metadata": {},
   "source": [
    "#### This model can now be used to make predictions."
   ]
  },
  {
   "cell_type": "code",
   "execution_count": 69,
   "metadata": {},
   "outputs": [
    {
     "name": "stdout",
     "output_type": "stream",
     "text": [
      "tensor([ 2.2116, -3.1041,  3.1737,  4.3450,  4.3037, 15.3547,  3.4812, 15.9296,\n",
      "        11.5362, 17.5796, -1.2561, -2.3689, -1.4489, -1.5664, -1.8327, -1.3153,\n",
      "        -2.4469, -1.9401, -1.9762, -2.4275, -2.9579, -2.3499, -1.8568, -1.7041,\n",
      "        -1.9207, -1.6579, -1.4837, -2.1005, -1.7323, -1.6832, -1.1187, -2.2288,\n",
      "        -1.4996, -1.6301, -0.7010, -1.9533, -3.2474, -2.3780, -1.8299, -1.0792,\n",
      "        -1.7036, -2.0266, -1.8191, -2.0812, -1.6671, -1.6344, -1.8994, -1.1810,\n",
      "        -2.3073, -2.0173])\n",
      "Predicted: \"Ankle boot\", Actual: \"Coat\"\n"
     ]
    }
   ],
   "source": [
    "classes = [\n",
    "    \"T-shirt/top\",\n",
    "    \"Trouser\",\n",
    "    \"Pullover\",\n",
    "    \"Dress\",\n",
    "    \"Coat\",\n",
    "    \"Sandal\",\n",
    "    \"Shirt\",\n",
    "    \"Sneaker\",\n",
    "    \"Bag\",\n",
    "    \"Ankle boot\",\n",
    "]\n",
    "\n",
    "model.eval()\n",
    "x, y = test_data[892][0], test_data[888][1]\n",
    "with torch.no_grad():\n",
    "    pred = model(x)\n",
    "    predicted, actual = classes[pred[0].argmax(0)], classes[y]\n",
    "    print(pred[0])\n",
    "    print(f'Predicted: \"{predicted}\", Actual: \"{actual}\"')"
   ]
  },
  {
   "cell_type": "code",
   "execution_count": null,
   "metadata": {},
   "outputs": [],
   "source": []
  }
 ],
 "metadata": {
  "interpreter": {
   "hash": "40d3a090f54c6569ab1632332b64b2c03c39dcf918b08424e98f38b5ae0af88f"
  },
  "kernelspec": {
   "display_name": "Python 3.8.8 64-bit ('base': conda)",
   "language": "python",
   "name": "python3"
  },
  "language_info": {
   "codemirror_mode": {
    "name": "ipython",
    "version": 3
   },
   "file_extension": ".py",
   "mimetype": "text/x-python",
   "name": "python",
   "nbconvert_exporter": "python",
   "pygments_lexer": "ipython3",
   "version": "3.8.8"
  },
  "orig_nbformat": 4
 },
 "nbformat": 4,
 "nbformat_minor": 2
}
